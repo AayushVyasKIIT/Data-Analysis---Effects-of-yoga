{
 "cells": [
  {
   "cell_type": "markdown",
   "metadata": {},
   "source": [
    "# DATA ANALYSIS SURVEY ASSIGNMENT\n",
    "\n",
    "## TOPIC : EFFECTS OF YOGA ON OUR LIFE"
   ]
  },
  {
   "cell_type": "markdown",
   "metadata": {},
   "source": [
    "### DEPENDENCIES"
   ]
  },
  {
   "cell_type": "code",
<<<<<<< Updated upstream
   "execution_count": 2,
=======
   "execution_count": 273,
>>>>>>> Stashed changes
   "metadata": {},
   "outputs": [],
   "source": [
    "import numpy as np\n",
    "import pandas as pd \n",
    "import matplotlib.pyplot as plt\n",
    "import seaborn as sb\n",
    "sb.set_style(\"whitegrid\")"
   ]
  },
  {
   "cell_type": "markdown",
   "metadata": {},
   "source": [
    "## INPUT DATA FROM GOOGLE FORMS"
   ]
  },
  {
   "cell_type": "code",
<<<<<<< Updated upstream
   "execution_count": 3,
=======
   "execution_count": 274,
>>>>>>> Stashed changes
   "metadata": {},
   "outputs": [
    {
     "data": {
      "text/html": [
       "<div>\n",
       "<style scoped>\n",
       "    .dataframe tbody tr th:only-of-type {\n",
       "        vertical-align: middle;\n",
       "    }\n",
       "\n",
       "    .dataframe tbody tr th {\n",
       "        vertical-align: top;\n",
       "    }\n",
       "\n",
       "    .dataframe thead th {\n",
       "        text-align: right;\n",
       "    }\n",
       "</style>\n",
       "<table border=\"1\" class=\"dataframe\">\n",
       "  <thead>\n",
       "    <tr style=\"text-align: right;\">\n",
       "      <th></th>\n",
       "      <th>Timestamp</th>\n",
       "      <th>Full Name</th>\n",
       "      <th>Age</th>\n",
       "      <th>Email</th>\n",
       "      <th>Profession</th>\n",
       "      <th>How long have you been practicing yoga  ? (in years)</th>\n",
       "      <th>Do you think yoga helps you get relief from stress ?</th>\n",
       "      <th>Do you think yoga affects your lifestyle ?</th>\n",
       "      <th>What medium do you prefer to learn yoga ?</th>\n",
       "      <th>Do you see your yoga practice as part of personal spiritual path or just physical exercise ?</th>\n",
       "      <th>Should yoga be inducted in schools from the beginning ?</th>\n",
       "      <th>Does yoga help boosting your mental state ?</th>\n",
       "      <th>Do you think it helps in curing chronic diseases (ex- asthma, bronchitis)</th>\n",
       "      <th>Would you prefer yoga  over other physical activities ?</th>\n",
       "      <th>Would you suggest practicing yoga to your friends and family ?</th>\n",
       "    </tr>\n",
       "  </thead>\n",
       "  <tbody>\n",
       "    <tr>\n",
       "      <th>0</th>\n",
       "      <td>10-31-2020 12:10:10</td>\n",
       "      <td>Abh</td>\n",
       "      <td>20</td>\n",
       "      <td>abhigyan000@gmail.com</td>\n",
       "      <td>Student</td>\n",
       "      <td>20.0</td>\n",
       "      <td>Strongly Agree</td>\n",
       "      <td>Strongly Agree</td>\n",
       "      <td>Trainer</td>\n",
       "      <td>Both</td>\n",
       "      <td>Strongly Agree</td>\n",
       "      <td>Strongly Agree</td>\n",
       "      <td>Strongly Agree</td>\n",
       "      <td>Yes</td>\n",
       "      <td>Yes</td>\n",
       "    </tr>\n",
       "    <tr>\n",
       "      <th>1</th>\n",
       "      <td>10-31-2020 12:14:22</td>\n",
       "      <td>PURNENDU RANABAJ MALLIK</td>\n",
       "      <td>20</td>\n",
       "      <td>1830037@kiit.ac.in</td>\n",
       "      <td>Student</td>\n",
       "      <td>2.0</td>\n",
       "      <td>Agree</td>\n",
       "      <td>Strongly Agree</td>\n",
       "      <td>IG Tv</td>\n",
       "      <td>Physical exercise</td>\n",
       "      <td>Agree</td>\n",
       "      <td>Strongly Agree</td>\n",
       "      <td>Neutral</td>\n",
       "      <td>Yes</td>\n",
       "      <td>Yes</td>\n",
       "    </tr>\n",
       "    <tr>\n",
       "      <th>2</th>\n",
       "      <td>10-31-2020 12:15:59</td>\n",
       "      <td>Mohit Simon aka cesky</td>\n",
       "      <td>20</td>\n",
       "      <td>1830029@kiit.ac.in</td>\n",
       "      <td>Retired</td>\n",
       "      <td>5.0</td>\n",
       "      <td>Agree</td>\n",
       "      <td>Agree</td>\n",
       "      <td>YouTube</td>\n",
       "      <td>Physical exercise</td>\n",
       "      <td>Agree</td>\n",
       "      <td>Neutral</td>\n",
       "      <td>Neutral</td>\n",
       "      <td>No</td>\n",
       "      <td>Maybe</td>\n",
       "    </tr>\n",
       "    <tr>\n",
       "      <th>3</th>\n",
       "      <td>10-31-2020 12:18:46</td>\n",
       "      <td>Akashika</td>\n",
       "      <td>19</td>\n",
       "      <td>akashika4@gmail.com</td>\n",
       "      <td>Student</td>\n",
       "      <td>1.0</td>\n",
       "      <td>Strongly Agree</td>\n",
       "      <td>Agree</td>\n",
       "      <td>Trainer</td>\n",
       "      <td>Both</td>\n",
       "      <td>Agree</td>\n",
       "      <td>Agree</td>\n",
       "      <td>Agree</td>\n",
       "      <td>No</td>\n",
       "      <td>Maybe</td>\n",
       "    </tr>\n",
       "    <tr>\n",
       "      <th>4</th>\n",
       "      <td>10-31-2020 12:19:51</td>\n",
       "      <td>Master Apurv</td>\n",
       "      <td>20</td>\n",
       "      <td>1830026@kiit.ac.in</td>\n",
       "      <td>Student</td>\n",
       "      <td>0.0</td>\n",
       "      <td>Neutral</td>\n",
       "      <td>Agree</td>\n",
       "      <td>Trainer</td>\n",
       "      <td>Both</td>\n",
       "      <td>Neutral</td>\n",
       "      <td>Agree</td>\n",
       "      <td>Disagree</td>\n",
       "      <td>No</td>\n",
       "      <td>Maybe</td>\n",
       "    </tr>\n",
       "    <tr>\n",
       "      <th>...</th>\n",
       "      <td>...</td>\n",
       "      <td>...</td>\n",
       "      <td>...</td>\n",
       "      <td>...</td>\n",
       "      <td>...</td>\n",
       "      <td>...</td>\n",
       "      <td>...</td>\n",
       "      <td>...</td>\n",
       "      <td>...</td>\n",
       "      <td>...</td>\n",
       "      <td>...</td>\n",
       "      <td>...</td>\n",
       "      <td>...</td>\n",
       "      <td>...</td>\n",
       "      <td>...</td>\n",
       "    </tr>\n",
       "    <tr>\n",
       "      <th>80</th>\n",
       "      <td>11-01-2020 23:00</td>\n",
       "      <td>Arti Haldkar</td>\n",
       "      <td>17</td>\n",
       "      <td>artihaldkar.54@gmail.com</td>\n",
       "      <td>Student</td>\n",
       "      <td>2.0</td>\n",
       "      <td>Neutral</td>\n",
       "      <td>Neutral</td>\n",
       "      <td>Internet</td>\n",
       "      <td>Both</td>\n",
       "      <td>Agree</td>\n",
       "      <td>Neutral</td>\n",
       "      <td>Agree</td>\n",
       "      <td>Yes</td>\n",
       "      <td>Maybe</td>\n",
       "    </tr>\n",
       "    <tr>\n",
       "      <th>81</th>\n",
       "      <td>11-01-2020 23:30</td>\n",
       "      <td>Ashmita Bhattacharya</td>\n",
       "      <td>21</td>\n",
       "      <td>ashmitabhattacharya@gmail.com</td>\n",
       "      <td>Student</td>\n",
       "      <td>1.0</td>\n",
       "      <td>Agree</td>\n",
       "      <td>Agree</td>\n",
       "      <td>YouTube</td>\n",
       "      <td>Physical exercise</td>\n",
       "      <td>Neutral</td>\n",
       "      <td>Agree</td>\n",
       "      <td>Neutral</td>\n",
       "      <td>Yes</td>\n",
       "      <td>Yes</td>\n",
       "    </tr>\n",
       "    <tr>\n",
       "      <th>82</th>\n",
       "      <td>11-02-2020 00:11</td>\n",
       "      <td>Sayahnika Samal</td>\n",
       "      <td>42</td>\n",
       "      <td>sayahnika78@gmail.com</td>\n",
       "      <td>Working</td>\n",
       "      <td>18.0</td>\n",
       "      <td>Agree</td>\n",
       "      <td>Agree</td>\n",
       "      <td>YouTube</td>\n",
       "      <td>Both</td>\n",
       "      <td>Agree</td>\n",
       "      <td>Agree</td>\n",
       "      <td>Agree</td>\n",
       "      <td>Yes</td>\n",
       "      <td>Yes</td>\n",
       "    </tr>\n",
       "    <tr>\n",
       "      <th>83</th>\n",
       "      <td>11-02-2020 00:32</td>\n",
       "      <td>Akshita Sharma</td>\n",
       "      <td>19</td>\n",
       "      <td>sharmaakshita957@gmail.com</td>\n",
       "      <td>Student</td>\n",
       "      <td>3.0</td>\n",
       "      <td>Strongly Agree</td>\n",
       "      <td>Strongly Agree</td>\n",
       "      <td>Trainer</td>\n",
       "      <td>Both</td>\n",
       "      <td>Agree</td>\n",
       "      <td>Agree</td>\n",
       "      <td>Strongly Agree</td>\n",
       "      <td>Yes</td>\n",
       "      <td>Yes</td>\n",
       "    </tr>\n",
       "    <tr>\n",
       "      <th>84</th>\n",
       "      <td>11-02-2020 05:21</td>\n",
       "      <td>Rakesh Mohan Khanduri</td>\n",
       "      <td>56</td>\n",
       "      <td>rmkhanduri@rediffmail.com</td>\n",
       "      <td>Working</td>\n",
       "      <td>116.0</td>\n",
       "      <td>Strongly Agree</td>\n",
       "      <td>Strongly Agree</td>\n",
       "      <td>Trainer</td>\n",
       "      <td>Personal spiritual path</td>\n",
       "      <td>Strongly Agree</td>\n",
       "      <td>Strongly Agree</td>\n",
       "      <td>Strongly Agree</td>\n",
       "      <td>Yes</td>\n",
       "      <td>Yes</td>\n",
       "    </tr>\n",
       "  </tbody>\n",
       "</table>\n",
       "<p>85 rows × 15 columns</p>\n",
       "</div>"
      ],
      "text/plain": [
       "              Timestamp                Full Name  Age  \\\n",
       "0   10-31-2020 12:10:10                      Abh   20   \n",
       "1   10-31-2020 12:14:22  PURNENDU RANABAJ MALLIK   20   \n",
       "2   10-31-2020 12:15:59    Mohit Simon aka cesky   20   \n",
       "3   10-31-2020 12:18:46                 Akashika   19   \n",
       "4   10-31-2020 12:19:51             Master Apurv   20   \n",
       "..                  ...                      ...  ...   \n",
       "80     11-01-2020 23:00            Arti Haldkar    17   \n",
       "81     11-01-2020 23:30     Ashmita Bhattacharya   21   \n",
       "82     11-02-2020 00:11          Sayahnika Samal   42   \n",
       "83     11-02-2020 00:32           Akshita Sharma   19   \n",
       "84     11-02-2020 05:21    Rakesh Mohan Khanduri   56   \n",
       "\n",
       "                            Email Profession  \\\n",
       "0           abhigyan000@gmail.com    Student   \n",
       "1              1830037@kiit.ac.in    Student   \n",
       "2              1830029@kiit.ac.in    Retired   \n",
       "3             akashika4@gmail.com    Student   \n",
       "4              1830026@kiit.ac.in    Student   \n",
       "..                            ...        ...   \n",
       "80       artihaldkar.54@gmail.com    Student   \n",
       "81  ashmitabhattacharya@gmail.com    Student   \n",
       "82          sayahnika78@gmail.com    Working   \n",
       "83     sharmaakshita957@gmail.com    Student   \n",
       "84      rmkhanduri@rediffmail.com    Working   \n",
       "\n",
       "    How long have you been practicing yoga  ? (in years)  \\\n",
       "0                                                20.0      \n",
       "1                                                 2.0      \n",
       "2                                                 5.0      \n",
       "3                                                 1.0      \n",
       "4                                                 0.0      \n",
       "..                                                ...      \n",
       "80                                                2.0      \n",
       "81                                                1.0      \n",
       "82                                               18.0      \n",
       "83                                                3.0      \n",
       "84                                              116.0      \n",
       "\n",
       "   Do you think yoga helps you get relief from stress ?  \\\n",
       "0                                      Strongly Agree     \n",
       "1                                               Agree     \n",
       "2                                               Agree     \n",
       "3                                      Strongly Agree     \n",
       "4                                             Neutral     \n",
       "..                                                ...     \n",
       "80                                            Neutral     \n",
       "81                                              Agree     \n",
       "82                                              Agree     \n",
       "83                                     Strongly Agree     \n",
       "84                                     Strongly Agree     \n",
       "\n",
       "   Do you think yoga affects your lifestyle ?  \\\n",
       "0                              Strongly Agree   \n",
       "1                              Strongly Agree   \n",
       "2                                       Agree   \n",
       "3                                       Agree   \n",
       "4                                       Agree   \n",
       "..                                        ...   \n",
       "80                                    Neutral   \n",
       "81                                      Agree   \n",
       "82                                      Agree   \n",
       "83                             Strongly Agree   \n",
       "84                             Strongly Agree   \n",
       "\n",
       "   What medium do you prefer to learn yoga ?  \\\n",
       "0                                    Trainer   \n",
       "1                                      IG Tv   \n",
       "2                                    YouTube   \n",
       "3                                    Trainer   \n",
       "4                                    Trainer   \n",
       "..                                       ...   \n",
       "80                                  Internet   \n",
       "81                                   YouTube   \n",
       "82                                   YouTube   \n",
       "83                                   Trainer   \n",
       "84                                   Trainer   \n",
       "\n",
       "   Do you see your yoga practice as part of personal spiritual path or just physical exercise ?  \\\n",
       "0                                                Both                                             \n",
       "1                                   Physical exercise                                             \n",
       "2                                   Physical exercise                                             \n",
       "3                                                Both                                             \n",
       "4                                                Both                                             \n",
       "..                                                ...                                             \n",
       "80                                               Both                                             \n",
       "81                                  Physical exercise                                             \n",
       "82                                               Both                                             \n",
       "83                                               Both                                             \n",
       "84                            Personal spiritual path                                             \n",
       "\n",
       "   Should yoga be inducted in schools from the beginning ?  \\\n",
       "0                                      Strongly Agree        \n",
       "1                                               Agree        \n",
       "2                                               Agree        \n",
       "3                                               Agree        \n",
       "4                                             Neutral        \n",
       "..                                                ...        \n",
       "80                                              Agree        \n",
       "81                                            Neutral        \n",
       "82                                              Agree        \n",
       "83                                              Agree        \n",
       "84                                     Strongly Agree        \n",
       "\n",
       "   Does yoga help boosting your mental state ?  \\\n",
       "0                               Strongly Agree   \n",
       "1                               Strongly Agree   \n",
       "2                                      Neutral   \n",
       "3                                        Agree   \n",
       "4                                        Agree   \n",
       "..                                         ...   \n",
       "80                                     Neutral   \n",
       "81                                       Agree   \n",
       "82                                       Agree   \n",
       "83                                       Agree   \n",
       "84                              Strongly Agree   \n",
       "\n",
       "   Do you think it helps in curing chronic diseases (ex- asthma, bronchitis)  \\\n",
       "0                                      Strongly Agree                          \n",
       "1                                             Neutral                          \n",
       "2                                             Neutral                          \n",
       "3                                               Agree                          \n",
       "4                                            Disagree                          \n",
       "..                                                ...                          \n",
       "80                                              Agree                          \n",
       "81                                            Neutral                          \n",
       "82                                              Agree                          \n",
       "83                                     Strongly Agree                          \n",
       "84                                     Strongly Agree                          \n",
       "\n",
       "   Would you prefer yoga  over other physical activities ?  \\\n",
       "0                                                 Yes        \n",
       "1                                                 Yes        \n",
       "2                                                  No        \n",
       "3                                                  No        \n",
       "4                                                  No        \n",
       "..                                                ...        \n",
       "80                                                Yes        \n",
       "81                                                Yes        \n",
       "82                                                Yes        \n",
       "83                                                Yes        \n",
       "84                                                Yes        \n",
       "\n",
       "   Would you suggest practicing yoga to your friends and family ?  \n",
       "0                                                 Yes              \n",
       "1                                                 Yes              \n",
       "2                                               Maybe              \n",
       "3                                               Maybe              \n",
       "4                                               Maybe              \n",
       "..                                                ...              \n",
       "80                                              Maybe              \n",
       "81                                                Yes              \n",
       "82                                                Yes              \n",
       "83                                                Yes              \n",
       "84                                                Yes              \n",
       "\n",
       "[85 rows x 15 columns]"
      ]
     },
<<<<<<< Updated upstream
     "execution_count": 3,
=======
     "execution_count": 274,
>>>>>>> Stashed changes
     "metadata": {},
     "output_type": "execute_result"
    }
   ],
   "source": [
    "#the data inputted from google forms\n",
    "#contains 85 responses\n",
    "data = pd.read_csv(\"DA Survey Assignment (Responses).csv\")\n",
    "data"
   ]
  },
  {
   "cell_type": "markdown",
   "metadata": {},
   "source": [
    "## RENAMING FEATURES"
   ]
  },
  {
   "cell_type": "code",
<<<<<<< Updated upstream
   "execution_count": 4,
=======
   "execution_count": 275,
>>>>>>> Stashed changes
   "metadata": {
    "scrolled": false
   },
   "outputs": [
    {
     "data": {
      "text/html": [
       "<div>\n",
       "<style scoped>\n",
       "    .dataframe tbody tr th:only-of-type {\n",
       "        vertical-align: middle;\n",
       "    }\n",
       "\n",
       "    .dataframe tbody tr th {\n",
       "        vertical-align: top;\n",
       "    }\n",
       "\n",
       "    .dataframe thead th {\n",
       "        text-align: right;\n",
       "    }\n",
       "</style>\n",
       "<table border=\"1\" class=\"dataframe\">\n",
       "  <thead>\n",
       "    <tr style=\"text-align: right;\">\n",
       "      <th></th>\n",
       "      <th>Age</th>\n",
       "      <th>Profession</th>\n",
       "      <th>How long have you been practicing yoga  ? (in years)</th>\n",
       "      <th>Do you think yoga helps you get relief from stress ?</th>\n",
       "      <th>Do you think yoga affects your lifestyle ?</th>\n",
       "      <th>What medium do you prefer to learn yoga ?</th>\n",
       "      <th>Do you see your yoga practice as part of personal spiritual path or just physical exercise ?</th>\n",
       "      <th>Should yoga be inducted in schools from the beginning ?</th>\n",
       "      <th>Does yoga help boosting your mental state ?</th>\n",
       "      <th>Do you think it helps in curing chronic diseases (ex- asthma, bronchitis)</th>\n",
       "      <th>Would you prefer yoga  over other physical activities ?</th>\n",
       "      <th>Would you suggest practicing yoga to your friends and family ?</th>\n",
       "    </tr>\n",
       "  </thead>\n",
       "  <tbody>\n",
       "    <tr>\n",
       "      <th>0</th>\n",
       "      <td>20</td>\n",
       "      <td>Student</td>\n",
       "      <td>20.0</td>\n",
       "      <td>Strongly Agree</td>\n",
       "      <td>Strongly Agree</td>\n",
       "      <td>Trainer</td>\n",
       "      <td>Both</td>\n",
       "      <td>Strongly Agree</td>\n",
       "      <td>Strongly Agree</td>\n",
       "      <td>Strongly Agree</td>\n",
       "      <td>Yes</td>\n",
       "      <td>Yes</td>\n",
       "    </tr>\n",
       "    <tr>\n",
       "      <th>1</th>\n",
       "      <td>20</td>\n",
       "      <td>Student</td>\n",
       "      <td>2.0</td>\n",
       "      <td>Agree</td>\n",
       "      <td>Strongly Agree</td>\n",
       "      <td>IG Tv</td>\n",
       "      <td>Physical exercise</td>\n",
       "      <td>Agree</td>\n",
       "      <td>Strongly Agree</td>\n",
       "      <td>Neutral</td>\n",
       "      <td>Yes</td>\n",
       "      <td>Yes</td>\n",
       "    </tr>\n",
       "    <tr>\n",
       "      <th>2</th>\n",
       "      <td>20</td>\n",
       "      <td>Retired</td>\n",
       "      <td>5.0</td>\n",
       "      <td>Agree</td>\n",
       "      <td>Agree</td>\n",
       "      <td>YouTube</td>\n",
       "      <td>Physical exercise</td>\n",
       "      <td>Agree</td>\n",
       "      <td>Neutral</td>\n",
       "      <td>Neutral</td>\n",
       "      <td>No</td>\n",
       "      <td>Maybe</td>\n",
       "    </tr>\n",
       "    <tr>\n",
       "      <th>3</th>\n",
       "      <td>19</td>\n",
       "      <td>Student</td>\n",
       "      <td>1.0</td>\n",
       "      <td>Strongly Agree</td>\n",
       "      <td>Agree</td>\n",
       "      <td>Trainer</td>\n",
       "      <td>Both</td>\n",
       "      <td>Agree</td>\n",
       "      <td>Agree</td>\n",
       "      <td>Agree</td>\n",
       "      <td>No</td>\n",
       "      <td>Maybe</td>\n",
       "    </tr>\n",
       "    <tr>\n",
       "      <th>4</th>\n",
       "      <td>20</td>\n",
       "      <td>Student</td>\n",
       "      <td>0.0</td>\n",
       "      <td>Neutral</td>\n",
       "      <td>Agree</td>\n",
       "      <td>Trainer</td>\n",
       "      <td>Both</td>\n",
       "      <td>Neutral</td>\n",
       "      <td>Agree</td>\n",
       "      <td>Disagree</td>\n",
       "      <td>No</td>\n",
       "      <td>Maybe</td>\n",
       "    </tr>\n",
       "    <tr>\n",
       "      <th>...</th>\n",
       "      <td>...</td>\n",
       "      <td>...</td>\n",
       "      <td>...</td>\n",
       "      <td>...</td>\n",
       "      <td>...</td>\n",
       "      <td>...</td>\n",
       "      <td>...</td>\n",
       "      <td>...</td>\n",
       "      <td>...</td>\n",
       "      <td>...</td>\n",
       "      <td>...</td>\n",
       "      <td>...</td>\n",
       "    </tr>\n",
       "    <tr>\n",
       "      <th>80</th>\n",
       "      <td>17</td>\n",
       "      <td>Student</td>\n",
       "      <td>2.0</td>\n",
       "      <td>Neutral</td>\n",
       "      <td>Neutral</td>\n",
       "      <td>Internet</td>\n",
       "      <td>Both</td>\n",
       "      <td>Agree</td>\n",
       "      <td>Neutral</td>\n",
       "      <td>Agree</td>\n",
       "      <td>Yes</td>\n",
       "      <td>Maybe</td>\n",
       "    </tr>\n",
       "    <tr>\n",
       "      <th>81</th>\n",
       "      <td>21</td>\n",
       "      <td>Student</td>\n",
       "      <td>1.0</td>\n",
       "      <td>Agree</td>\n",
       "      <td>Agree</td>\n",
       "      <td>YouTube</td>\n",
       "      <td>Physical exercise</td>\n",
       "      <td>Neutral</td>\n",
       "      <td>Agree</td>\n",
       "      <td>Neutral</td>\n",
       "      <td>Yes</td>\n",
       "      <td>Yes</td>\n",
       "    </tr>\n",
       "    <tr>\n",
       "      <th>82</th>\n",
       "      <td>42</td>\n",
       "      <td>Working</td>\n",
       "      <td>18.0</td>\n",
       "      <td>Agree</td>\n",
       "      <td>Agree</td>\n",
       "      <td>YouTube</td>\n",
       "      <td>Both</td>\n",
       "      <td>Agree</td>\n",
       "      <td>Agree</td>\n",
       "      <td>Agree</td>\n",
       "      <td>Yes</td>\n",
       "      <td>Yes</td>\n",
       "    </tr>\n",
       "    <tr>\n",
       "      <th>83</th>\n",
       "      <td>19</td>\n",
       "      <td>Student</td>\n",
       "      <td>3.0</td>\n",
       "      <td>Strongly Agree</td>\n",
       "      <td>Strongly Agree</td>\n",
       "      <td>Trainer</td>\n",
       "      <td>Both</td>\n",
       "      <td>Agree</td>\n",
       "      <td>Agree</td>\n",
       "      <td>Strongly Agree</td>\n",
       "      <td>Yes</td>\n",
       "      <td>Yes</td>\n",
       "    </tr>\n",
       "    <tr>\n",
       "      <th>84</th>\n",
       "      <td>56</td>\n",
       "      <td>Working</td>\n",
       "      <td>116.0</td>\n",
       "      <td>Strongly Agree</td>\n",
       "      <td>Strongly Agree</td>\n",
       "      <td>Trainer</td>\n",
       "      <td>Personal spiritual path</td>\n",
       "      <td>Strongly Agree</td>\n",
       "      <td>Strongly Agree</td>\n",
       "      <td>Strongly Agree</td>\n",
       "      <td>Yes</td>\n",
       "      <td>Yes</td>\n",
       "    </tr>\n",
       "  </tbody>\n",
       "</table>\n",
       "<p>85 rows × 12 columns</p>\n",
       "</div>"
      ],
      "text/plain": [
       "    Age Profession  How long have you been practicing yoga  ? (in years)  \\\n",
       "0    20    Student                                               20.0      \n",
       "1    20    Student                                                2.0      \n",
       "2    20    Retired                                                5.0      \n",
       "3    19    Student                                                1.0      \n",
       "4    20    Student                                                0.0      \n",
       "..  ...        ...                                                ...      \n",
       "80   17    Student                                                2.0      \n",
       "81   21    Student                                                1.0      \n",
       "82   42    Working                                               18.0      \n",
       "83   19    Student                                                3.0      \n",
       "84   56    Working                                              116.0      \n",
       "\n",
       "   Do you think yoga helps you get relief from stress ?  \\\n",
       "0                                      Strongly Agree     \n",
       "1                                               Agree     \n",
       "2                                               Agree     \n",
       "3                                      Strongly Agree     \n",
       "4                                             Neutral     \n",
       "..                                                ...     \n",
       "80                                            Neutral     \n",
       "81                                              Agree     \n",
       "82                                              Agree     \n",
       "83                                     Strongly Agree     \n",
       "84                                     Strongly Agree     \n",
       "\n",
       "   Do you think yoga affects your lifestyle ?  \\\n",
       "0                              Strongly Agree   \n",
       "1                              Strongly Agree   \n",
       "2                                       Agree   \n",
       "3                                       Agree   \n",
       "4                                       Agree   \n",
       "..                                        ...   \n",
       "80                                    Neutral   \n",
       "81                                      Agree   \n",
       "82                                      Agree   \n",
       "83                             Strongly Agree   \n",
       "84                             Strongly Agree   \n",
       "\n",
       "   What medium do you prefer to learn yoga ?  \\\n",
       "0                                    Trainer   \n",
       "1                                      IG Tv   \n",
       "2                                    YouTube   \n",
       "3                                    Trainer   \n",
       "4                                    Trainer   \n",
       "..                                       ...   \n",
       "80                                  Internet   \n",
       "81                                   YouTube   \n",
       "82                                   YouTube   \n",
       "83                                   Trainer   \n",
       "84                                   Trainer   \n",
       "\n",
       "   Do you see your yoga practice as part of personal spiritual path or just physical exercise ?  \\\n",
       "0                                                Both                                             \n",
       "1                                   Physical exercise                                             \n",
       "2                                   Physical exercise                                             \n",
       "3                                                Both                                             \n",
       "4                                                Both                                             \n",
       "..                                                ...                                             \n",
       "80                                               Both                                             \n",
       "81                                  Physical exercise                                             \n",
       "82                                               Both                                             \n",
       "83                                               Both                                             \n",
       "84                            Personal spiritual path                                             \n",
       "\n",
       "   Should yoga be inducted in schools from the beginning ?  \\\n",
       "0                                      Strongly Agree        \n",
       "1                                               Agree        \n",
       "2                                               Agree        \n",
       "3                                               Agree        \n",
       "4                                             Neutral        \n",
       "..                                                ...        \n",
       "80                                              Agree        \n",
       "81                                            Neutral        \n",
       "82                                              Agree        \n",
       "83                                              Agree        \n",
       "84                                     Strongly Agree        \n",
       "\n",
       "   Does yoga help boosting your mental state ?  \\\n",
       "0                               Strongly Agree   \n",
       "1                               Strongly Agree   \n",
       "2                                      Neutral   \n",
       "3                                        Agree   \n",
       "4                                        Agree   \n",
       "..                                         ...   \n",
       "80                                     Neutral   \n",
       "81                                       Agree   \n",
       "82                                       Agree   \n",
       "83                                       Agree   \n",
       "84                              Strongly Agree   \n",
       "\n",
       "   Do you think it helps in curing chronic diseases (ex- asthma, bronchitis)  \\\n",
       "0                                      Strongly Agree                          \n",
       "1                                             Neutral                          \n",
       "2                                             Neutral                          \n",
       "3                                               Agree                          \n",
       "4                                            Disagree                          \n",
       "..                                                ...                          \n",
       "80                                              Agree                          \n",
       "81                                            Neutral                          \n",
       "82                                              Agree                          \n",
       "83                                     Strongly Agree                          \n",
       "84                                     Strongly Agree                          \n",
       "\n",
       "   Would you prefer yoga  over other physical activities ?  \\\n",
       "0                                                 Yes        \n",
       "1                                                 Yes        \n",
       "2                                                  No        \n",
       "3                                                  No        \n",
       "4                                                  No        \n",
       "..                                                ...        \n",
       "80                                                Yes        \n",
       "81                                                Yes        \n",
       "82                                                Yes        \n",
       "83                                                Yes        \n",
       "84                                                Yes        \n",
       "\n",
       "   Would you suggest practicing yoga to your friends and family ?  \n",
       "0                                                 Yes              \n",
       "1                                                 Yes              \n",
       "2                                               Maybe              \n",
       "3                                               Maybe              \n",
       "4                                               Maybe              \n",
       "..                                                ...              \n",
       "80                                              Maybe              \n",
       "81                                                Yes              \n",
       "82                                                Yes              \n",
       "83                                                Yes              \n",
       "84                                                Yes              \n",
       "\n",
       "[85 rows x 12 columns]"
      ]
     },
<<<<<<< Updated upstream
     "execution_count": 4,
=======
     "execution_count": 275,
>>>>>>> Stashed changes
     "metadata": {},
     "output_type": "execute_result"
    }
   ],
   "source": [
    "#dropping unessecary features that are not required in the analysis\n",
    "data = pd.read_csv(\"DA Survey Assignment (Responses).csv\")\n",
    "data.drop(['Full Name','Email','Timestamp'],axis=1,inplace=True)\n",
    "data"
   ]
  },
  {
   "cell_type": "code",
<<<<<<< Updated upstream
   "execution_count": 5,
=======
   "execution_count": 276,
>>>>>>> Stashed changes
   "metadata": {},
   "outputs": [
    {
     "data": {
      "text/html": [
       "<div>\n",
       "<style scoped>\n",
       "    .dataframe tbody tr th:only-of-type {\n",
       "        vertical-align: middle;\n",
       "    }\n",
       "\n",
       "    .dataframe tbody tr th {\n",
       "        vertical-align: top;\n",
       "    }\n",
       "\n",
       "    .dataframe thead th {\n",
       "        text-align: right;\n",
       "    }\n",
       "</style>\n",
       "<table border=\"1\" class=\"dataframe\">\n",
       "  <thead>\n",
       "    <tr style=\"text-align: right;\">\n",
       "      <th></th>\n",
       "      <th>Age</th>\n",
       "      <th>Profession</th>\n",
       "      <th>PracYears</th>\n",
       "      <th>Stress Relief</th>\n",
       "      <th>Lifestyle</th>\n",
       "      <th>Medium</th>\n",
       "      <th>Spiritual Or Physical</th>\n",
       "      <th>Induction in Schools</th>\n",
       "      <th>Mental State</th>\n",
       "      <th>Chronic Disease</th>\n",
       "      <th>OverPhysical</th>\n",
       "      <th>Refering</th>\n",
       "    </tr>\n",
       "  </thead>\n",
       "  <tbody>\n",
       "    <tr>\n",
       "      <th>0</th>\n",
       "      <td>20</td>\n",
       "      <td>Student</td>\n",
       "      <td>20.0</td>\n",
       "      <td>Strongly Agree</td>\n",
       "      <td>Strongly Agree</td>\n",
       "      <td>Trainer</td>\n",
       "      <td>Both</td>\n",
       "      <td>Strongly Agree</td>\n",
       "      <td>Strongly Agree</td>\n",
       "      <td>Strongly Agree</td>\n",
       "      <td>Yes</td>\n",
       "      <td>Yes</td>\n",
       "    </tr>\n",
       "    <tr>\n",
       "      <th>1</th>\n",
       "      <td>20</td>\n",
       "      <td>Student</td>\n",
       "      <td>2.0</td>\n",
       "      <td>Agree</td>\n",
       "      <td>Strongly Agree</td>\n",
       "      <td>IG Tv</td>\n",
       "      <td>Physical exercise</td>\n",
       "      <td>Agree</td>\n",
       "      <td>Strongly Agree</td>\n",
       "      <td>Neutral</td>\n",
       "      <td>Yes</td>\n",
       "      <td>Yes</td>\n",
       "    </tr>\n",
       "    <tr>\n",
       "      <th>2</th>\n",
       "      <td>20</td>\n",
       "      <td>Retired</td>\n",
       "      <td>5.0</td>\n",
       "      <td>Agree</td>\n",
       "      <td>Agree</td>\n",
       "      <td>YouTube</td>\n",
       "      <td>Physical exercise</td>\n",
       "      <td>Agree</td>\n",
       "      <td>Neutral</td>\n",
       "      <td>Neutral</td>\n",
       "      <td>No</td>\n",
       "      <td>Maybe</td>\n",
       "    </tr>\n",
       "    <tr>\n",
       "      <th>3</th>\n",
       "      <td>19</td>\n",
       "      <td>Student</td>\n",
       "      <td>1.0</td>\n",
       "      <td>Strongly Agree</td>\n",
       "      <td>Agree</td>\n",
       "      <td>Trainer</td>\n",
       "      <td>Both</td>\n",
       "      <td>Agree</td>\n",
       "      <td>Agree</td>\n",
       "      <td>Agree</td>\n",
       "      <td>No</td>\n",
       "      <td>Maybe</td>\n",
       "    </tr>\n",
       "    <tr>\n",
       "      <th>4</th>\n",
       "      <td>20</td>\n",
       "      <td>Student</td>\n",
       "      <td>0.0</td>\n",
       "      <td>Neutral</td>\n",
       "      <td>Agree</td>\n",
       "      <td>Trainer</td>\n",
       "      <td>Both</td>\n",
       "      <td>Neutral</td>\n",
       "      <td>Agree</td>\n",
       "      <td>Disagree</td>\n",
       "      <td>No</td>\n",
       "      <td>Maybe</td>\n",
       "    </tr>\n",
       "    <tr>\n",
       "      <th>...</th>\n",
       "      <td>...</td>\n",
       "      <td>...</td>\n",
       "      <td>...</td>\n",
       "      <td>...</td>\n",
       "      <td>...</td>\n",
       "      <td>...</td>\n",
       "      <td>...</td>\n",
       "      <td>...</td>\n",
       "      <td>...</td>\n",
       "      <td>...</td>\n",
       "      <td>...</td>\n",
       "      <td>...</td>\n",
       "    </tr>\n",
       "    <tr>\n",
       "      <th>80</th>\n",
       "      <td>17</td>\n",
       "      <td>Student</td>\n",
       "      <td>2.0</td>\n",
       "      <td>Neutral</td>\n",
       "      <td>Neutral</td>\n",
       "      <td>Internet</td>\n",
       "      <td>Both</td>\n",
       "      <td>Agree</td>\n",
       "      <td>Neutral</td>\n",
       "      <td>Agree</td>\n",
       "      <td>Yes</td>\n",
       "      <td>Maybe</td>\n",
       "    </tr>\n",
       "    <tr>\n",
       "      <th>81</th>\n",
       "      <td>21</td>\n",
       "      <td>Student</td>\n",
       "      <td>1.0</td>\n",
       "      <td>Agree</td>\n",
       "      <td>Agree</td>\n",
       "      <td>YouTube</td>\n",
       "      <td>Physical exercise</td>\n",
       "      <td>Neutral</td>\n",
       "      <td>Agree</td>\n",
       "      <td>Neutral</td>\n",
       "      <td>Yes</td>\n",
       "      <td>Yes</td>\n",
       "    </tr>\n",
       "    <tr>\n",
       "      <th>82</th>\n",
       "      <td>42</td>\n",
       "      <td>Working</td>\n",
       "      <td>18.0</td>\n",
       "      <td>Agree</td>\n",
       "      <td>Agree</td>\n",
       "      <td>YouTube</td>\n",
       "      <td>Both</td>\n",
       "      <td>Agree</td>\n",
       "      <td>Agree</td>\n",
       "      <td>Agree</td>\n",
       "      <td>Yes</td>\n",
       "      <td>Yes</td>\n",
       "    </tr>\n",
       "    <tr>\n",
       "      <th>83</th>\n",
       "      <td>19</td>\n",
       "      <td>Student</td>\n",
       "      <td>3.0</td>\n",
       "      <td>Strongly Agree</td>\n",
       "      <td>Strongly Agree</td>\n",
       "      <td>Trainer</td>\n",
       "      <td>Both</td>\n",
       "      <td>Agree</td>\n",
       "      <td>Agree</td>\n",
       "      <td>Strongly Agree</td>\n",
       "      <td>Yes</td>\n",
       "      <td>Yes</td>\n",
       "    </tr>\n",
       "    <tr>\n",
       "      <th>84</th>\n",
       "      <td>56</td>\n",
       "      <td>Working</td>\n",
       "      <td>116.0</td>\n",
       "      <td>Strongly Agree</td>\n",
       "      <td>Strongly Agree</td>\n",
       "      <td>Trainer</td>\n",
       "      <td>Personal spiritual path</td>\n",
       "      <td>Strongly Agree</td>\n",
       "      <td>Strongly Agree</td>\n",
       "      <td>Strongly Agree</td>\n",
       "      <td>Yes</td>\n",
       "      <td>Yes</td>\n",
       "    </tr>\n",
       "  </tbody>\n",
       "</table>\n",
       "<p>85 rows × 12 columns</p>\n",
       "</div>"
      ],
      "text/plain": [
       "    Age Profession  PracYears   Stress Relief       Lifestyle    Medium  \\\n",
       "0    20    Student       20.0  Strongly Agree  Strongly Agree   Trainer   \n",
       "1    20    Student        2.0           Agree  Strongly Agree     IG Tv   \n",
       "2    20    Retired        5.0           Agree           Agree   YouTube   \n",
       "3    19    Student        1.0  Strongly Agree           Agree   Trainer   \n",
       "4    20    Student        0.0         Neutral           Agree   Trainer   \n",
       "..  ...        ...        ...             ...             ...       ...   \n",
       "80   17    Student        2.0         Neutral         Neutral  Internet   \n",
       "81   21    Student        1.0           Agree           Agree   YouTube   \n",
       "82   42    Working       18.0           Agree           Agree   YouTube   \n",
       "83   19    Student        3.0  Strongly Agree  Strongly Agree   Trainer   \n",
       "84   56    Working      116.0  Strongly Agree  Strongly Agree   Trainer   \n",
       "\n",
       "      Spiritual Or Physical Induction in Schools    Mental State  \\\n",
       "0                      Both       Strongly Agree  Strongly Agree   \n",
       "1         Physical exercise                Agree  Strongly Agree   \n",
       "2         Physical exercise                Agree         Neutral   \n",
       "3                      Both                Agree           Agree   \n",
       "4                      Both              Neutral           Agree   \n",
       "..                      ...                  ...             ...   \n",
       "80                     Both                Agree         Neutral   \n",
       "81        Physical exercise              Neutral           Agree   \n",
       "82                     Both                Agree           Agree   \n",
       "83                     Both                Agree           Agree   \n",
       "84  Personal spiritual path       Strongly Agree  Strongly Agree   \n",
       "\n",
       "   Chronic Disease OverPhysical Refering  \n",
       "0   Strongly Agree          Yes      Yes  \n",
       "1          Neutral          Yes      Yes  \n",
       "2          Neutral           No    Maybe  \n",
       "3            Agree           No    Maybe  \n",
       "4         Disagree           No    Maybe  \n",
       "..             ...          ...      ...  \n",
       "80           Agree          Yes    Maybe  \n",
       "81         Neutral          Yes      Yes  \n",
       "82           Agree          Yes      Yes  \n",
       "83  Strongly Agree          Yes      Yes  \n",
       "84  Strongly Agree          Yes      Yes  \n",
       "\n",
       "[85 rows x 12 columns]"
      ]
     },
<<<<<<< Updated upstream
     "execution_count": 5,
=======
     "execution_count": 276,
>>>>>>> Stashed changes
     "metadata": {},
     "output_type": "execute_result"
    }
   ],
   "source": [
    "#renaming the questions as features to be easily used for analysis\n",
    "data.rename(columns = {\"How long have you been practicing yoga  ? (in years)\":\"PracYears\",\n",
    "                       \"Do you think yoga helps you get relief from stress ?\":\"Stress Relief\",\n",
    "                       \"Do you think yoga affects your lifestyle ?\":\"Lifestyle\",\n",
    "                      \"What medium do you prefer to learn yoga ?\":\"Medium\",\n",
    "                       \"Do you see your yoga practice as part of personal spiritual path or just physical exercise ?\":\"Spiritual Or Physical\",\n",
    "                      \"Should yoga be inducted in schools from the beginning ?\":\"Induction in Schools\",\n",
    "                      \"Does yoga help boosting your mental state ?\":\"Mental State\",\n",
    "                       \"Do you think it helps in curing chronic diseases (ex- asthma, bronchitis)\":\"Chronic Disease\",\n",
    "                      \"Would you prefer yoga  over other physical activities ?\":\"OverPhysical\",\n",
    "                      \"Would you suggest practicing yoga to your friends and family ?\":\"Refering\"},inplace = True)\n",
    "data"
   ]
  },
  {
   "cell_type": "markdown",
   "metadata": {},
   "source": [
    "## DATA CLEANING "
   ]
  },
  {
   "cell_type": "code",
<<<<<<< Updated upstream
   "execution_count": 6,
=======
   "execution_count": 277,
>>>>>>> Stashed changes
   "metadata": {},
   "outputs": [
    {
     "name": "stdout",
     "output_type": "stream",
     "text": [
      "[DEBUG]Maximum age: 78\n",
      "[DEBUG]Practice Years shouldnot be greater than age: Practicing Years(20.0) > Age(20)\n",
      "[DEBUG]Practice Years shouldnot be greater than age: Practicing Years(116.0) > Age(56)\n"
     ]
    },
    {
     "data": {
      "text/html": [
       "<div>\n",
       "<style scoped>\n",
       "    .dataframe tbody tr th:only-of-type {\n",
       "        vertical-align: middle;\n",
       "    }\n",
       "\n",
       "    .dataframe tbody tr th {\n",
       "        vertical-align: top;\n",
       "    }\n",
       "\n",
       "    .dataframe thead th {\n",
       "        text-align: right;\n",
       "    }\n",
       "</style>\n",
       "<table border=\"1\" class=\"dataframe\">\n",
       "  <thead>\n",
       "    <tr style=\"text-align: right;\">\n",
       "      <th></th>\n",
       "      <th>yoga</th>\n",
       "      <th>Age</th>\n",
       "      <th>Profession</th>\n",
       "      <th>PracYears</th>\n",
       "      <th>Stress Relief</th>\n",
       "      <th>Lifestyle</th>\n",
       "      <th>Medium</th>\n",
       "      <th>Spiritual Or Physical</th>\n",
       "      <th>Induction in Schools</th>\n",
       "      <th>Mental State</th>\n",
       "      <th>Chronic Disease</th>\n",
       "      <th>OverPhysical</th>\n",
       "      <th>Refering</th>\n",
       "    </tr>\n",
       "  </thead>\n",
       "  <tbody>\n",
       "    <tr>\n",
       "      <th>0</th>\n",
       "      <td>4.0</td>\n",
       "      <td>20</td>\n",
       "      <td>Student</td>\n",
       "      <td>10.0</td>\n",
       "      <td>Strongly Agree</td>\n",
       "      <td>Strongly Agree</td>\n",
       "      <td>Trainer</td>\n",
       "      <td>Both</td>\n",
       "      <td>Strongly Agree</td>\n",
       "      <td>Strongly Agree</td>\n",
       "      <td>Strongly Agree</td>\n",
       "      <td>Yes</td>\n",
       "      <td>Yes</td>\n",
       "    </tr>\n",
       "    <tr>\n",
       "      <th>1</th>\n",
       "      <td>2.0</td>\n",
       "      <td>20</td>\n",
       "      <td>Student</td>\n",
       "      <td>2.0</td>\n",
       "      <td>Agree</td>\n",
       "      <td>Strongly Agree</td>\n",
       "      <td>IG Tv</td>\n",
       "      <td>Physical exercise</td>\n",
       "      <td>Agree</td>\n",
       "      <td>Strongly Agree</td>\n",
       "      <td>Neutral</td>\n",
       "      <td>Yes</td>\n",
       "      <td>Yes</td>\n",
       "    </tr>\n",
       "    <tr>\n",
       "      <th>2</th>\n",
       "      <td>3.0</td>\n",
       "      <td>20</td>\n",
       "      <td>Retired</td>\n",
       "      <td>5.0</td>\n",
       "      <td>Agree</td>\n",
       "      <td>Agree</td>\n",
       "      <td>YouTube</td>\n",
       "      <td>Physical exercise</td>\n",
       "      <td>Agree</td>\n",
       "      <td>Neutral</td>\n",
       "      <td>Neutral</td>\n",
       "      <td>No</td>\n",
       "      <td>Maybe</td>\n",
       "    </tr>\n",
       "    <tr>\n",
       "      <th>3</th>\n",
       "      <td>1.0</td>\n",
       "      <td>19</td>\n",
       "      <td>Student</td>\n",
       "      <td>1.0</td>\n",
       "      <td>Strongly Agree</td>\n",
       "      <td>Agree</td>\n",
       "      <td>Trainer</td>\n",
       "      <td>Both</td>\n",
       "      <td>Agree</td>\n",
       "      <td>Agree</td>\n",
       "      <td>Agree</td>\n",
       "      <td>No</td>\n",
       "      <td>Maybe</td>\n",
       "    </tr>\n",
       "    <tr>\n",
       "      <th>4</th>\n",
       "      <td>0.0</td>\n",
       "      <td>20</td>\n",
       "      <td>Student</td>\n",
       "      <td>0.0</td>\n",
       "      <td>Neutral</td>\n",
       "      <td>Agree</td>\n",
       "      <td>Trainer</td>\n",
       "      <td>Both</td>\n",
       "      <td>Neutral</td>\n",
       "      <td>Agree</td>\n",
       "      <td>Disagree</td>\n",
       "      <td>No</td>\n",
       "      <td>Maybe</td>\n",
       "    </tr>\n",
       "    <tr>\n",
       "      <th>...</th>\n",
       "      <td>...</td>\n",
       "      <td>...</td>\n",
       "      <td>...</td>\n",
       "      <td>...</td>\n",
       "      <td>...</td>\n",
       "      <td>...</td>\n",
       "      <td>...</td>\n",
       "      <td>...</td>\n",
       "      <td>...</td>\n",
       "      <td>...</td>\n",
       "      <td>...</td>\n",
       "      <td>...</td>\n",
       "      <td>...</td>\n",
       "    </tr>\n",
       "    <tr>\n",
       "      <th>80</th>\n",
       "      <td>2.0</td>\n",
       "      <td>17</td>\n",
       "      <td>Student</td>\n",
       "      <td>2.0</td>\n",
       "      <td>Neutral</td>\n",
       "      <td>Neutral</td>\n",
       "      <td>Internet</td>\n",
       "      <td>Both</td>\n",
       "      <td>Agree</td>\n",
       "      <td>Neutral</td>\n",
       "      <td>Agree</td>\n",
       "      <td>Yes</td>\n",
       "      <td>Maybe</td>\n",
       "    </tr>\n",
       "    <tr>\n",
       "      <th>81</th>\n",
       "      <td>1.0</td>\n",
       "      <td>21</td>\n",
       "      <td>Student</td>\n",
       "      <td>1.0</td>\n",
       "      <td>Agree</td>\n",
       "      <td>Agree</td>\n",
       "      <td>YouTube</td>\n",
       "      <td>Physical exercise</td>\n",
       "      <td>Neutral</td>\n",
       "      <td>Agree</td>\n",
       "      <td>Neutral</td>\n",
       "      <td>Yes</td>\n",
       "      <td>Yes</td>\n",
       "    </tr>\n",
       "    <tr>\n",
       "      <th>82</th>\n",
       "      <td>4.0</td>\n",
       "      <td>42</td>\n",
       "      <td>Working</td>\n",
       "      <td>18.0</td>\n",
       "      <td>Agree</td>\n",
       "      <td>Agree</td>\n",
       "      <td>YouTube</td>\n",
       "      <td>Both</td>\n",
       "      <td>Agree</td>\n",
       "      <td>Agree</td>\n",
       "      <td>Agree</td>\n",
       "      <td>Yes</td>\n",
       "      <td>Yes</td>\n",
       "    </tr>\n",
       "    <tr>\n",
       "      <th>83</th>\n",
       "      <td>3.0</td>\n",
       "      <td>19</td>\n",
       "      <td>Student</td>\n",
       "      <td>3.0</td>\n",
       "      <td>Strongly Agree</td>\n",
       "      <td>Strongly Agree</td>\n",
       "      <td>Trainer</td>\n",
       "      <td>Both</td>\n",
       "      <td>Agree</td>\n",
       "      <td>Agree</td>\n",
       "      <td>Strongly Agree</td>\n",
       "      <td>Yes</td>\n",
       "      <td>Yes</td>\n",
       "    </tr>\n",
       "    <tr>\n",
       "      <th>84</th>\n",
       "      <td>4.0</td>\n",
       "      <td>56</td>\n",
       "      <td>Working</td>\n",
       "      <td>10.0</td>\n",
       "      <td>Strongly Agree</td>\n",
       "      <td>Strongly Agree</td>\n",
       "      <td>Trainer</td>\n",
       "      <td>Personal spiritual path</td>\n",
       "      <td>Strongly Agree</td>\n",
       "      <td>Strongly Agree</td>\n",
       "      <td>Strongly Agree</td>\n",
       "      <td>Yes</td>\n",
       "      <td>Yes</td>\n",
       "    </tr>\n",
       "  </tbody>\n",
       "</table>\n",
       "<p>85 rows × 13 columns</p>\n",
       "</div>"
      ],
      "text/plain": [
       "    yoga  Age Profession  PracYears   Stress Relief       Lifestyle    Medium  \\\n",
       "0    4.0   20    Student       10.0  Strongly Agree  Strongly Agree   Trainer   \n",
       "1    2.0   20    Student        2.0           Agree  Strongly Agree     IG Tv   \n",
       "2    3.0   20    Retired        5.0           Agree           Agree   YouTube   \n",
       "3    1.0   19    Student        1.0  Strongly Agree           Agree   Trainer   \n",
       "4    0.0   20    Student        0.0         Neutral           Agree   Trainer   \n",
       "..   ...  ...        ...        ...             ...             ...       ...   \n",
       "80   2.0   17    Student        2.0         Neutral         Neutral  Internet   \n",
       "81   1.0   21    Student        1.0           Agree           Agree   YouTube   \n",
       "82   4.0   42    Working       18.0           Agree           Agree   YouTube   \n",
       "83   3.0   19    Student        3.0  Strongly Agree  Strongly Agree   Trainer   \n",
       "84   4.0   56    Working       10.0  Strongly Agree  Strongly Agree   Trainer   \n",
       "\n",
       "      Spiritual Or Physical Induction in Schools    Mental State  \\\n",
       "0                      Both       Strongly Agree  Strongly Agree   \n",
       "1         Physical exercise                Agree  Strongly Agree   \n",
       "2         Physical exercise                Agree         Neutral   \n",
       "3                      Both                Agree           Agree   \n",
       "4                      Both              Neutral           Agree   \n",
       "..                      ...                  ...             ...   \n",
       "80                     Both                Agree         Neutral   \n",
       "81        Physical exercise              Neutral           Agree   \n",
       "82                     Both                Agree           Agree   \n",
       "83                     Both                Agree           Agree   \n",
       "84  Personal spiritual path       Strongly Agree  Strongly Agree   \n",
       "\n",
       "   Chronic Disease OverPhysical Refering  \n",
       "0   Strongly Agree          Yes      Yes  \n",
       "1          Neutral          Yes      Yes  \n",
       "2          Neutral           No    Maybe  \n",
       "3            Agree           No    Maybe  \n",
       "4         Disagree           No    Maybe  \n",
       "..             ...          ...      ...  \n",
       "80           Agree          Yes    Maybe  \n",
       "81         Neutral          Yes      Yes  \n",
       "82           Agree          Yes      Yes  \n",
       "83  Strongly Agree          Yes      Yes  \n",
       "84  Strongly Agree          Yes      Yes  \n",
       "\n",
       "[85 rows x 13 columns]"
      ]
     },
<<<<<<< Updated upstream
     "execution_count": 6,
=======
     "execution_count": 277,
>>>>>>> Stashed changes
     "metadata": {},
     "output_type": "execute_result"
    }
   ],
   "source": [
    "#removing outliers and inconsistency in our data\n",
    "age = np.array(data[\"Age\"],int)\n",
    "l = lambda x:x-20 if x>=100 else x\n",
    "map(l,age)\n",
    "data[\"Age\"] = age\n",
    "print(\"[DEBUG]Maximum age:\",data[\"Age\"].max()) #verifies that no response has any hypothetical life span\n",
    "\n",
    "#pracitising years\n",
    "j=0;\n",
    "pracYears =list(data[\"PracYears\"])\n",
    "for i,eachPrac in enumerate(pracYears):\n",
    "    if(eachPrac>=age[j]):\n",
    "        print(\"[DEBUG]Practice Years shouldnot be greater than age: Practicing Years({}) > Age({})\".format(eachPrac,age[j]))\n",
    "        pracYears[i] = 10\n",
    "    j+=1\n",
    "data[\"PracYears\"] = pracYears #this confirms that no response contains yoga practice years greater than their age\n",
    "                                #as it is clearly not possible.\n",
    "yoga_labels = np.ones(85)\n",
    "pracYears = np.array(pracYears)\n",
    "#assigning how likely a person do yoga based on the number of years they have been practising yoga.\n",
    "for i in range(0,data.shape[0]):\n",
    "    if(pracYears[i]>0 and pracYears[i]<=1):\n",
    "        yoga_labels[i]=1\n",
    "    elif(pracYears[i]>1 and pracYears[i]<=2):\n",
    "        yoga_labels[i] = 2\n",
    "    elif(pracYears[i]>2 and pracYears[i]<=5):\n",
    "        yoga_labels[i] = 3\n",
    "    elif(pracYears[i]>5 and pracYears[i]<=10):\n",
    "        yoga_labels[i] = 4\n",
    "    elif(pracYears[i]>10):\n",
    "        yoga_labels[i] = 4\n",
    "    else:\n",
    "        yoga_labels[i] = 0\n",
    "data.insert(0,\"yoga\",yoga_labels)\n",
    "true_false = data[\"OverPhysical\"] #needed for legends labelling yes/no\n",
    "data"
   ]
  },
  {
   "cell_type": "markdown",
   "metadata": {},
   "source": [
    "## LIKERT SCALE TRANSFORMATION"
   ]
  },
  {
   "cell_type": "code",
<<<<<<< Updated upstream
   "execution_count": 7,
=======
   "execution_count": 278,
>>>>>>> Stashed changes
   "metadata": {},
   "outputs": [],
   "source": [
    "liker_scale = {\"Strongly Agree\":4,\"Agree\":3,\"Neutral\":2,\"Disagree\":1,\"Strongly Disagree\":0}\n",
    "attributes = [\"Stress Relief\",\"Lifestyle\",\"Induction in Schools\",\"Mental State\",\"Chronic Disease\"]\n",
    "for each in attributes:\n",
    "    data[each] = data[each].apply(lambda x:liker_scale[x])"
   ]
  },
  {
   "cell_type": "code",
<<<<<<< Updated upstream
   "execution_count": 8,
=======
   "execution_count": 279,
>>>>>>> Stashed changes
   "metadata": {},
   "outputs": [],
   "source": [
    "#categorical vairable labeling\n",
    "#yes->1 no->0\n",
    "data[\"OverPhysical\"] = data[\"OverPhysical\"].apply(lambda x:1 if x==\"Yes\" else 0)\n",
    "data[\"Refering\"] = data[\"Refering\"].apply(lambda x:1 if x==\"Yes\" else 0)"
   ]
  },
  {
   "cell_type": "code",
<<<<<<< Updated upstream
   "execution_count": 9,
=======
   "execution_count": 280,
>>>>>>> Stashed changes
   "metadata": {},
   "outputs": [
    {
     "data": {
      "text/html": [
       "<div>\n",
       "<style scoped>\n",
       "    .dataframe tbody tr th:only-of-type {\n",
       "        vertical-align: middle;\n",
       "    }\n",
       "\n",
       "    .dataframe tbody tr th {\n",
       "        vertical-align: top;\n",
       "    }\n",
       "\n",
       "    .dataframe thead th {\n",
       "        text-align: right;\n",
       "    }\n",
       "</style>\n",
       "<table border=\"1\" class=\"dataframe\">\n",
       "  <thead>\n",
       "    <tr style=\"text-align: right;\">\n",
       "      <th></th>\n",
       "      <th>yoga</th>\n",
       "      <th>Age</th>\n",
       "      <th>Profession</th>\n",
       "      <th>PracYears</th>\n",
       "      <th>Stress Relief</th>\n",
       "      <th>Lifestyle</th>\n",
       "      <th>Medium</th>\n",
       "      <th>Spiritual Or Physical</th>\n",
       "      <th>Induction in Schools</th>\n",
       "      <th>Mental State</th>\n",
       "      <th>Chronic Disease</th>\n",
       "      <th>OverPhysical</th>\n",
       "      <th>Refering</th>\n",
       "    </tr>\n",
       "  </thead>\n",
       "  <tbody>\n",
       "    <tr>\n",
       "      <th>0</th>\n",
       "      <td>4.0</td>\n",
       "      <td>20</td>\n",
       "      <td>Student</td>\n",
       "      <td>10.0</td>\n",
       "      <td>4</td>\n",
       "      <td>4</td>\n",
       "      <td>Trainer</td>\n",
       "      <td>Both</td>\n",
       "      <td>4</td>\n",
       "      <td>4</td>\n",
       "      <td>4</td>\n",
       "      <td>1</td>\n",
       "      <td>1</td>\n",
       "    </tr>\n",
       "    <tr>\n",
       "      <th>1</th>\n",
       "      <td>2.0</td>\n",
       "      <td>20</td>\n",
       "      <td>Student</td>\n",
       "      <td>2.0</td>\n",
       "      <td>3</td>\n",
       "      <td>4</td>\n",
       "      <td>IG Tv</td>\n",
       "      <td>Physical exercise</td>\n",
       "      <td>3</td>\n",
       "      <td>4</td>\n",
       "      <td>2</td>\n",
       "      <td>1</td>\n",
       "      <td>1</td>\n",
       "    </tr>\n",
       "    <tr>\n",
       "      <th>2</th>\n",
       "      <td>3.0</td>\n",
       "      <td>20</td>\n",
       "      <td>Retired</td>\n",
       "      <td>5.0</td>\n",
       "      <td>3</td>\n",
       "      <td>3</td>\n",
       "      <td>YouTube</td>\n",
       "      <td>Physical exercise</td>\n",
       "      <td>3</td>\n",
       "      <td>2</td>\n",
       "      <td>2</td>\n",
       "      <td>0</td>\n",
       "      <td>0</td>\n",
       "    </tr>\n",
       "    <tr>\n",
       "      <th>3</th>\n",
       "      <td>1.0</td>\n",
       "      <td>19</td>\n",
       "      <td>Student</td>\n",
       "      <td>1.0</td>\n",
       "      <td>4</td>\n",
       "      <td>3</td>\n",
       "      <td>Trainer</td>\n",
       "      <td>Both</td>\n",
       "      <td>3</td>\n",
       "      <td>3</td>\n",
       "      <td>3</td>\n",
       "      <td>0</td>\n",
       "      <td>0</td>\n",
       "    </tr>\n",
       "    <tr>\n",
       "      <th>4</th>\n",
       "      <td>0.0</td>\n",
       "      <td>20</td>\n",
       "      <td>Student</td>\n",
       "      <td>0.0</td>\n",
       "      <td>2</td>\n",
       "      <td>3</td>\n",
       "      <td>Trainer</td>\n",
       "      <td>Both</td>\n",
       "      <td>2</td>\n",
       "      <td>3</td>\n",
       "      <td>1</td>\n",
       "      <td>0</td>\n",
       "      <td>0</td>\n",
       "    </tr>\n",
       "    <tr>\n",
       "      <th>...</th>\n",
       "      <td>...</td>\n",
       "      <td>...</td>\n",
       "      <td>...</td>\n",
       "      <td>...</td>\n",
       "      <td>...</td>\n",
       "      <td>...</td>\n",
       "      <td>...</td>\n",
       "      <td>...</td>\n",
       "      <td>...</td>\n",
       "      <td>...</td>\n",
       "      <td>...</td>\n",
       "      <td>...</td>\n",
       "      <td>...</td>\n",
       "    </tr>\n",
       "    <tr>\n",
       "      <th>80</th>\n",
       "      <td>2.0</td>\n",
       "      <td>17</td>\n",
       "      <td>Student</td>\n",
       "      <td>2.0</td>\n",
       "      <td>2</td>\n",
       "      <td>2</td>\n",
       "      <td>Internet</td>\n",
       "      <td>Both</td>\n",
       "      <td>3</td>\n",
       "      <td>2</td>\n",
       "      <td>3</td>\n",
       "      <td>1</td>\n",
       "      <td>0</td>\n",
       "    </tr>\n",
       "    <tr>\n",
       "      <th>81</th>\n",
       "      <td>1.0</td>\n",
       "      <td>21</td>\n",
       "      <td>Student</td>\n",
       "      <td>1.0</td>\n",
       "      <td>3</td>\n",
       "      <td>3</td>\n",
       "      <td>YouTube</td>\n",
       "      <td>Physical exercise</td>\n",
       "      <td>2</td>\n",
       "      <td>3</td>\n",
       "      <td>2</td>\n",
       "      <td>1</td>\n",
       "      <td>1</td>\n",
       "    </tr>\n",
       "    <tr>\n",
       "      <th>82</th>\n",
       "      <td>4.0</td>\n",
       "      <td>42</td>\n",
       "      <td>Working</td>\n",
       "      <td>18.0</td>\n",
       "      <td>3</td>\n",
       "      <td>3</td>\n",
       "      <td>YouTube</td>\n",
       "      <td>Both</td>\n",
       "      <td>3</td>\n",
       "      <td>3</td>\n",
       "      <td>3</td>\n",
       "      <td>1</td>\n",
       "      <td>1</td>\n",
       "    </tr>\n",
       "    <tr>\n",
       "      <th>83</th>\n",
       "      <td>3.0</td>\n",
       "      <td>19</td>\n",
       "      <td>Student</td>\n",
       "      <td>3.0</td>\n",
       "      <td>4</td>\n",
       "      <td>4</td>\n",
       "      <td>Trainer</td>\n",
       "      <td>Both</td>\n",
       "      <td>3</td>\n",
       "      <td>3</td>\n",
       "      <td>4</td>\n",
       "      <td>1</td>\n",
       "      <td>1</td>\n",
       "    </tr>\n",
       "    <tr>\n",
       "      <th>84</th>\n",
       "      <td>4.0</td>\n",
       "      <td>56</td>\n",
       "      <td>Working</td>\n",
       "      <td>10.0</td>\n",
       "      <td>4</td>\n",
       "      <td>4</td>\n",
       "      <td>Trainer</td>\n",
       "      <td>Personal spiritual path</td>\n",
       "      <td>4</td>\n",
       "      <td>4</td>\n",
       "      <td>4</td>\n",
       "      <td>1</td>\n",
       "      <td>1</td>\n",
       "    </tr>\n",
       "  </tbody>\n",
       "</table>\n",
       "<p>85 rows × 13 columns</p>\n",
       "</div>"
      ],
      "text/plain": [
       "    yoga  Age Profession  PracYears  Stress Relief  Lifestyle    Medium  \\\n",
       "0    4.0   20    Student       10.0              4          4   Trainer   \n",
       "1    2.0   20    Student        2.0              3          4     IG Tv   \n",
       "2    3.0   20    Retired        5.0              3          3   YouTube   \n",
       "3    1.0   19    Student        1.0              4          3   Trainer   \n",
       "4    0.0   20    Student        0.0              2          3   Trainer   \n",
       "..   ...  ...        ...        ...            ...        ...       ...   \n",
       "80   2.0   17    Student        2.0              2          2  Internet   \n",
       "81   1.0   21    Student        1.0              3          3   YouTube   \n",
       "82   4.0   42    Working       18.0              3          3   YouTube   \n",
       "83   3.0   19    Student        3.0              4          4   Trainer   \n",
       "84   4.0   56    Working       10.0              4          4   Trainer   \n",
       "\n",
       "      Spiritual Or Physical  Induction in Schools  Mental State  \\\n",
       "0                      Both                     4             4   \n",
       "1         Physical exercise                     3             4   \n",
       "2         Physical exercise                     3             2   \n",
       "3                      Both                     3             3   \n",
       "4                      Both                     2             3   \n",
       "..                      ...                   ...           ...   \n",
       "80                     Both                     3             2   \n",
       "81        Physical exercise                     2             3   \n",
       "82                     Both                     3             3   \n",
       "83                     Both                     3             3   \n",
       "84  Personal spiritual path                     4             4   \n",
       "\n",
       "    Chronic Disease  OverPhysical  Refering  \n",
       "0                 4             1         1  \n",
       "1                 2             1         1  \n",
       "2                 2             0         0  \n",
       "3                 3             0         0  \n",
       "4                 1             0         0  \n",
       "..              ...           ...       ...  \n",
       "80                3             1         0  \n",
       "81                2             1         1  \n",
       "82                3             1         1  \n",
       "83                4             1         1  \n",
       "84                4             1         1  \n",
       "\n",
       "[85 rows x 13 columns]"
      ]
     },
<<<<<<< Updated upstream
     "execution_count": 9,
=======
     "execution_count": 280,
>>>>>>> Stashed changes
     "metadata": {},
     "output_type": "execute_result"
    }
   ],
   "source": [
    "data.to_csv(\"Updated.csv\") #updating the .csv file\n",
    "data"
   ]
  },
  {
   "cell_type": "markdown",
   "metadata": {},
   "source": [
    "### MOST PREFERRED MEDIUM"
   ]
  },
  {
   "cell_type": "code",
<<<<<<< Updated upstream
   "execution_count": 10,
=======
   "execution_count": 281,
>>>>>>> Stashed changes
   "metadata": {},
   "outputs": [
    {
     "data": {
      "text/plain": [
<<<<<<< Updated upstream
       "<matplotlib.axes._subplots.AxesSubplot at 0xac0d280>"
      ]
     },
     "execution_count": 10,
=======
       "<matplotlib.axes._subplots.AxesSubplot at 0x15f9df70>"
      ]
     },
     "execution_count": 281,
>>>>>>> Stashed changes
     "metadata": {},
     "output_type": "execute_result"
    },
    {
     "data": {
      "image/png": "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\n",
      "text/plain": [
       "<Figure size 432x288 with 1 Axes>"
      ]
     },
     "metadata": {},
     "output_type": "display_data"
    }
   ],
   "source": [
    "#most preferred medium\n",
    "sb.countplot(data[\"Medium\"])"
   ]
  },
  {
   "cell_type": "markdown",
   "metadata": {},
   "source": [
    "### POPULATION AGE ANALYSIS"
   ]
  },
  {
   "cell_type": "code",
<<<<<<< Updated upstream
   "execution_count": 11,
=======
   "execution_count": 282,
>>>>>>> Stashed changes
   "metadata": {},
   "outputs": [
    {
     "data": {
      "text/plain": [
<<<<<<< Updated upstream
       "<matplotlib.axes._subplots.AxesSubplot at 0xb3026e8>"
      ]
     },
     "execution_count": 11,
=======
       "<matplotlib.axes._subplots.AxesSubplot at 0x15fdcf58>"
      ]
     },
     "execution_count": 282,
>>>>>>> Stashed changes
     "metadata": {},
     "output_type": "execute_result"
    },
    {
     "data": {
      "image/png": "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\n",
      "text/plain": [
       "<Figure size 432x288 with 1 Axes>"
      ]
     },
     "metadata": {},
     "output_type": "display_data"
    }
   ],
   "source": [
    "sb.distplot(data[\"Age\"],color=(0.5,0.9,0.6),kde_kws={\"color\":(0,0.4,0.2)}) #shows the varied age of population of our responses"
   ]
  },
  {
   "cell_type": "markdown",
   "metadata": {},
   "source": [
    "### PROFESSION"
   ]
  },
  {
   "cell_type": "code",
<<<<<<< Updated upstream
   "execution_count": 12,
=======
   "execution_count": 283,
>>>>>>> Stashed changes
   "metadata": {},
   "outputs": [
    {
     "data": {
      "text/plain": [
<<<<<<< Updated upstream
       "<matplotlib.axes._subplots.AxesSubplot at 0xb36c478>"
      ]
     },
     "execution_count": 12,
=======
       "<matplotlib.axes._subplots.AxesSubplot at 0x15f8c418>"
      ]
     },
     "execution_count": 283,
>>>>>>> Stashed changes
     "metadata": {},
     "output_type": "execute_result"
    },
    {
     "data": {
      "image/png": "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\n",
      "text/plain": [
       "<Figure size 432x288 with 1 Axes>"
      ]
     },
     "metadata": {},
     "output_type": "display_data"
    }
   ],
   "source": [
    "sb.countplot(y=data[\"Profession\"])"
   ]
  },
  {
   "cell_type": "markdown",
   "metadata": {},
   "source": [
    "### PEARSON'S CORRELATION"
   ]
  },
  {
   "cell_type": "code",
<<<<<<< Updated upstream
   "execution_count": 13,
=======
   "execution_count": 284,
>>>>>>> Stashed changes
   "metadata": {},
   "outputs": [],
   "source": [
    "#used for continous variables\n",
    "def Correlation(df1,df2): #args-- two coloumns of the data frame\n",
    "    x = np.array(df1)\n",
    "    y = np.array(df2)\n",
    "    print(\"Correlation:\",np.corrcoef(x,y)[1][0])"
   ]
  },
  {
   "cell_type": "markdown",
   "metadata": {},
   "source": [
    "### YOGA VS STRESS RELIEF"
   ]
  },
  {
   "cell_type": "code",
<<<<<<< Updated upstream
   "execution_count": 14,
=======
   "execution_count": 285,
>>>>>>> Stashed changes
   "metadata": {},
   "outputs": [
    {
     "name": "stdout",
     "output_type": "stream",
     "text": [
      "Correlation: 0.12599723386285344\n"
     ]
    }
   ],
   "source": [
    "#yoga vs stress relief\n",
    "Correlation(data[\"yoga\"],data[\"Stress Relief\"])\n",
    "#independent variable yoga\n",
    "#dependent variable stress relief"
   ]
  },
  {
   "cell_type": "markdown",
   "metadata": {},
   "source": [
    "### SPEARMAN'S RANK CORRELATION"
   ]
  },
  {
   "cell_type": "code",
<<<<<<< Updated upstream
   "execution_count": 15,
=======
   "execution_count": 286,
>>>>>>> Stashed changes
   "metadata": {},
   "outputs": [],
   "source": [
    "#as our variables are ordinal in nature we may consider doing the spearman's test\n",
    "def SpearmansRC(df1,df2):\n",
    "    x = np.array(df1)\n",
    "    y = np.array(df2)\n",
    "    diff = x-y\n",
    "    r = 1 - ((6*np.sum(diff**2))/((df1.shape[0]**3)-df1.shape[0]))\n",
    "    print(\"Spearman's Rank Correlation rs:\",r)"
   ]
  },
  {
   "cell_type": "markdown",
   "metadata": {},
   "source": [
    "-Similarily there is no need of making hypothesis and testing for below features as the spearman's rank correlation test states that the below features are highly correlated with each other"
   ]
  },
  {
   "cell_type": "code",
<<<<<<< Updated upstream
   "execution_count": 16,
=======
   "execution_count": 287,
>>>>>>> Stashed changes
   "metadata": {},
   "outputs": [
    {
     "name": "stdout",
     "output_type": "stream",
     "text": [
      "Spearman's Rank Correlation rs: 0.9968927105726011\n"
     ]
    }
   ],
   "source": [
    "SpearmansRC(data[\"yoga\"],data[\"Stress Relief\"]) #yoga helps relieving from stress"
   ]
  },
  {
   "cell_type": "code",
<<<<<<< Updated upstream
   "execution_count": 17,
=======
   "execution_count": 288,
>>>>>>> Stashed changes
   "metadata": {},
   "outputs": [
    {
     "name": "stdout",
     "output_type": "stream",
     "text": [
      "Spearman's Rank Correlation rs: 0.9967070549149892\n"
     ]
    }
   ],
   "source": [
    "SpearmansRC(data[\"yoga\"],data[\"Chronic Disease\"]) #yoga helps in curing chronic diseases"
   ]
  },
  {
   "cell_type": "code",
<<<<<<< Updated upstream
   "execution_count": 18,
=======
   "execution_count": 289,
>>>>>>> Stashed changes
   "metadata": {},
   "outputs": [
    {
     "name": "stdout",
     "output_type": "stream",
     "text": [
      "Spearman's Rank Correlation rs: 0.996922024623803\n"
     ]
    }
   ],
   "source": [
    "SpearmansRC(data[\"yoga\"],data[\"Lifestyle\"]) #yoga effects one's life style possitively"
   ]
  },
  {
   "cell_type": "markdown",
   "metadata": {},
   "source": [
    "### YOGA VS AGE\n",
    "**H0** : people with more age tends to do more yoga.\n",
    "\n",
    "\n",
    "**Ha** : age cannot be taken as deciding variable for doing more yoga."
   ]
  },
  {
   "cell_type": "code",
<<<<<<< Updated upstream
   "execution_count": 19,
=======
   "execution_count": 290,
>>>>>>> Stashed changes
   "metadata": {},
   "outputs": [
    {
     "data": {
      "text/plain": [
<<<<<<< Updated upstream
       "<matplotlib.axes._subplots.AxesSubplot at 0xb36ce68>"
      ]
     },
     "execution_count": 19,
=======
       "<matplotlib.axes._subplots.AxesSubplot at 0x16058250>"
      ]
     },
     "execution_count": 290,
>>>>>>> Stashed changes
     "metadata": {},
     "output_type": "execute_result"
    },
    {
     "data": {
      "image/png": "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\n",
      "text/plain": [
       "<Figure size 432x288 with 1 Axes>"
      ]
     },
     "metadata": {},
     "output_type": "display_data"
    }
   ],
   "source": [
    "#people of more age tend to do more yoga than people with less age:\n",
    "#yoga vs age\n",
    "#dependent variable - yoga - categorical variable\n",
    "#independent variable - age - quantitative variable\n",
    "sb.boxplot(data[\"Age\"],data[\"yoga\"],palette=\"Set1\")"
   ]
  },
  {
   "cell_type": "markdown",
   "metadata": {},
   "source": [
    "-clearly in the graph its visible that the people of less age are doing more yoga than people of more age\n",
    "\n",
    "-also there is not enough evidence to state this\n",
    "\n",
    "if dependent variable - **yoga** - categorical variable\n",
    "and independent variable - **age** - quantitative variable then we have to use classificaton.\n",
    "\n",
    "For this case we used ordinal **logistic regression** (Multinominal)"
   ]
  },
  {
   "cell_type": "code",
<<<<<<< Updated upstream
   "execution_count": 20,
=======
   "execution_count": 291,
>>>>>>> Stashed changes
   "metadata": {},
   "outputs": [],
   "source": [
    "from sklearn.linear_model import LogisticRegression"
   ]
  },
  {
   "cell_type": "code",
<<<<<<< Updated upstream
   "execution_count": 21,
=======
   "execution_count": 292,
>>>>>>> Stashed changes
   "metadata": {},
   "outputs": [
    {
     "name": "stdout",
     "output_type": "stream",
     "text": [
      "Score: 0.3411764705882353\n"
     ]
    }
   ],
   "source": [
    "X = np.array(data[\"Age\"]).reshape([-1,1])\n",
    "y = np.array(data[\"yoga\"])\n",
    "clf = LogisticRegression(random_state=0).fit(X, y)\n",
    "print(\"Score:\",clf.score(X, y))"
   ]
  },
  {
   "cell_type": "markdown",
   "metadata": {},
   "source": [
    "**[RESULT]**:The score obtained by performing logistic regression is against our hypothesis and its clearly stating that we should reject our hypothesis and go for the alternate one i.e *no matter what age of the person it doesnot affect their yoga practice*."
   ]
  },
  {
   "cell_type": "markdown",
   "metadata": {},
   "source": [
    "### YOGA VS OVER PHYSICAL\n",
    "**H0**: if a person do less yoga then they prefer doing other physical activities.\n",
    "\n",
    "**Ha**: doing yoga doesnot relate with other physical activities."
   ]
  },
  {
   "cell_type": "code",
<<<<<<< Updated upstream
   "execution_count": 22,
=======
   "execution_count": 293,
>>>>>>> Stashed changes
   "metadata": {},
   "outputs": [
    {
     "name": "stdout",
     "output_type": "stream",
     "text": [
      "p-value is 0.5030140500663706\n",
      "Independent (H0 holds true)\n"
     ]
    }
   ],
   "source": [
    "from scipy.stats import chi2_contingency \n",
    "#yoga - independent +  Overpyhsical -dependent\n",
    "#chi-square test\n",
    "# defining the table \n",
    "obs = np.array([np.array(data[\"yoga\"]),np.array(data[\"OverPhysical\"])])\n",
    "o = pd.crosstab(data[\"yoga\"],data[\"OverPhysical\"]) #pd.crosstab(df1,df2) --\n",
    "                                                    #calculates contigency table for two arrays(frequency)\n",
    "stat, p, dof, expected = chi2_contingency(o,correction=False) #chi-square test\n",
    "\n",
    "# interpret p-value \n",
    "alpha = 0.05\n",
    "print(\"p-value is \" + str(p)) \n",
    "if p <= alpha: \n",
    "    print('Dependent (reject H0)') \n",
    "else: \n",
    "    print('Independent (H0 holds true)') \n"
   ]
  },
  {
   "cell_type": "markdown",
   "metadata": {},
   "source": [
    "**[RESULT]**:By performing the **chi-square test** we can clearly see that our hypothesis holds true i.e **\"if a person do less yoga then he might be doing some other physical activities\".**"
   ]
  },
  {
   "cell_type": "markdown",
   "metadata": {},
   "source": [
    "### YOGA OVER PHYSICAL\n",
    "\n",
    "-do people prefer yoga over other physical activities like playing football,cricket or doing gym etcetera?"
   ]
  },
  {
   "cell_type": "code",
<<<<<<< Updated upstream
   "execution_count": 23,
=======
   "execution_count": 294,
>>>>>>> Stashed changes
   "metadata": {},
   "outputs": [
    {
     "data": {
      "text/plain": [
<<<<<<< Updated upstream
       "<matplotlib.axes._subplots.AxesSubplot at 0xb719ef8>"
      ]
     },
     "execution_count": 23,
=======
       "<matplotlib.axes._subplots.AxesSubplot at 0x16170058>"
      ]
     },
     "execution_count": 294,
>>>>>>> Stashed changes
     "metadata": {},
     "output_type": "execute_result"
    },
    {
     "data": {
      "image/png": "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\n",
      "text/plain": [
       "<Figure size 432x288 with 1 Axes>"
      ]
     },
     "metadata": {},
     "output_type": "display_data"
    }
   ],
   "source": [
    "sb.countplot(data[\"OverPhysical\"],palette=\"Set1\",hue=true_false,edgecolor=\"0\",saturation=0.9)"
   ]
  },
  {
   "cell_type": "code",
<<<<<<< Updated upstream
   "execution_count": 24,
=======
   "execution_count": 295,
>>>>>>> Stashed changes
   "metadata": {},
   "outputs": [],
   "source": [
    "#show majority of the prefer yoga over other physical activities, by quanitively analysing each category and comparing them\n",
    "\n",
    "\n",
    "\n",
    "\n",
    "#do the analysis here"
   ]
  },
  {
   "cell_type": "markdown",
   "metadata": {},
   "source": [
    "**[RESULT]**:The above quantitative analysis is a clear evidence that people do prefer yoga over other physical activities."
   ]
  },
  {
   "cell_type": "code",
<<<<<<< Updated upstream
   "execution_count": 25,
=======
   "execution_count": 296,
>>>>>>> Stashed changes
   "metadata": {
    "scrolled": false
   },
   "outputs": [
    {
     "data": {
      "text/html": [
       "<div>\n",
       "<style scoped>\n",
       "    .dataframe tbody tr th:only-of-type {\n",
       "        vertical-align: middle;\n",
       "    }\n",
       "\n",
       "    .dataframe tbody tr th {\n",
       "        vertical-align: top;\n",
       "    }\n",
       "\n",
       "    .dataframe thead th {\n",
       "        text-align: right;\n",
       "    }\n",
       "</style>\n",
       "<table border=\"1\" class=\"dataframe\">\n",
       "  <thead>\n",
       "    <tr style=\"text-align: right;\">\n",
       "      <th></th>\n",
       "      <th>yoga</th>\n",
       "      <th>Age</th>\n",
       "      <th>Profession</th>\n",
       "      <th>PracYears</th>\n",
       "      <th>Stress Relief</th>\n",
       "      <th>Lifestyle</th>\n",
       "      <th>Medium</th>\n",
       "      <th>Spiritual Or Physical</th>\n",
       "      <th>Induction in Schools</th>\n",
       "      <th>Mental State</th>\n",
       "      <th>Chronic Disease</th>\n",
       "      <th>OverPhysical</th>\n",
       "      <th>Refering</th>\n",
       "    </tr>\n",
       "  </thead>\n",
       "  <tbody>\n",
       "    <tr>\n",
       "      <th>0</th>\n",
       "      <td>4.0</td>\n",
       "      <td>20</td>\n",
       "      <td>Student</td>\n",
       "      <td>10.0</td>\n",
       "      <td>4</td>\n",
       "      <td>4</td>\n",
       "      <td>Trainer</td>\n",
       "      <td>Both</td>\n",
       "      <td>4</td>\n",
       "      <td>4</td>\n",
       "      <td>4</td>\n",
       "      <td>1</td>\n",
       "      <td>1</td>\n",
       "    </tr>\n",
       "    <tr>\n",
       "      <th>1</th>\n",
       "      <td>2.0</td>\n",
       "      <td>20</td>\n",
       "      <td>Student</td>\n",
       "      <td>2.0</td>\n",
       "      <td>3</td>\n",
       "      <td>4</td>\n",
       "      <td>IG Tv</td>\n",
       "      <td>Physical exercise</td>\n",
       "      <td>3</td>\n",
       "      <td>4</td>\n",
       "      <td>2</td>\n",
       "      <td>1</td>\n",
       "      <td>1</td>\n",
       "    </tr>\n",
       "    <tr>\n",
       "      <th>2</th>\n",
       "      <td>3.0</td>\n",
       "      <td>20</td>\n",
       "      <td>Retired</td>\n",
       "      <td>5.0</td>\n",
       "      <td>3</td>\n",
       "      <td>3</td>\n",
       "      <td>YouTube</td>\n",
       "      <td>Physical exercise</td>\n",
       "      <td>3</td>\n",
       "      <td>2</td>\n",
       "      <td>2</td>\n",
       "      <td>0</td>\n",
       "      <td>0</td>\n",
       "    </tr>\n",
       "    <tr>\n",
       "      <th>3</th>\n",
       "      <td>1.0</td>\n",
       "      <td>19</td>\n",
       "      <td>Student</td>\n",
       "      <td>1.0</td>\n",
       "      <td>4</td>\n",
       "      <td>3</td>\n",
       "      <td>Trainer</td>\n",
       "      <td>Both</td>\n",
       "      <td>3</td>\n",
       "      <td>3</td>\n",
       "      <td>3</td>\n",
       "      <td>0</td>\n",
       "      <td>0</td>\n",
       "    </tr>\n",
       "    <tr>\n",
       "      <th>4</th>\n",
       "      <td>0.0</td>\n",
       "      <td>20</td>\n",
       "      <td>Student</td>\n",
       "      <td>0.0</td>\n",
       "      <td>2</td>\n",
       "      <td>3</td>\n",
       "      <td>Trainer</td>\n",
       "      <td>Both</td>\n",
       "      <td>2</td>\n",
       "      <td>3</td>\n",
       "      <td>1</td>\n",
       "      <td>0</td>\n",
       "      <td>0</td>\n",
       "    </tr>\n",
       "    <tr>\n",
       "      <th>...</th>\n",
       "      <td>...</td>\n",
       "      <td>...</td>\n",
       "      <td>...</td>\n",
       "      <td>...</td>\n",
       "      <td>...</td>\n",
       "      <td>...</td>\n",
       "      <td>...</td>\n",
       "      <td>...</td>\n",
       "      <td>...</td>\n",
       "      <td>...</td>\n",
       "      <td>...</td>\n",
       "      <td>...</td>\n",
       "      <td>...</td>\n",
       "    </tr>\n",
       "    <tr>\n",
       "      <th>80</th>\n",
       "      <td>2.0</td>\n",
       "      <td>17</td>\n",
       "      <td>Student</td>\n",
       "      <td>2.0</td>\n",
       "      <td>2</td>\n",
       "      <td>2</td>\n",
       "      <td>Internet</td>\n",
       "      <td>Both</td>\n",
       "      <td>3</td>\n",
       "      <td>2</td>\n",
       "      <td>3</td>\n",
       "      <td>1</td>\n",
       "      <td>0</td>\n",
       "    </tr>\n",
       "    <tr>\n",
       "      <th>81</th>\n",
       "      <td>1.0</td>\n",
       "      <td>21</td>\n",
       "      <td>Student</td>\n",
       "      <td>1.0</td>\n",
       "      <td>3</td>\n",
       "      <td>3</td>\n",
       "      <td>YouTube</td>\n",
       "      <td>Physical exercise</td>\n",
       "      <td>2</td>\n",
       "      <td>3</td>\n",
       "      <td>2</td>\n",
       "      <td>1</td>\n",
       "      <td>1</td>\n",
       "    </tr>\n",
       "    <tr>\n",
       "      <th>82</th>\n",
       "      <td>4.0</td>\n",
       "      <td>42</td>\n",
       "      <td>Working</td>\n",
       "      <td>18.0</td>\n",
       "      <td>3</td>\n",
       "      <td>3</td>\n",
       "      <td>YouTube</td>\n",
       "      <td>Both</td>\n",
       "      <td>3</td>\n",
       "      <td>3</td>\n",
       "      <td>3</td>\n",
       "      <td>1</td>\n",
       "      <td>1</td>\n",
       "    </tr>\n",
       "    <tr>\n",
       "      <th>83</th>\n",
       "      <td>3.0</td>\n",
       "      <td>19</td>\n",
       "      <td>Student</td>\n",
       "      <td>3.0</td>\n",
       "      <td>4</td>\n",
       "      <td>4</td>\n",
       "      <td>Trainer</td>\n",
       "      <td>Both</td>\n",
       "      <td>3</td>\n",
       "      <td>3</td>\n",
       "      <td>4</td>\n",
       "      <td>1</td>\n",
       "      <td>1</td>\n",
       "    </tr>\n",
       "    <tr>\n",
       "      <th>84</th>\n",
       "      <td>4.0</td>\n",
       "      <td>56</td>\n",
       "      <td>Working</td>\n",
       "      <td>10.0</td>\n",
       "      <td>4</td>\n",
       "      <td>4</td>\n",
       "      <td>Trainer</td>\n",
       "      <td>Personal spiritual path</td>\n",
       "      <td>4</td>\n",
       "      <td>4</td>\n",
       "      <td>4</td>\n",
       "      <td>1</td>\n",
       "      <td>1</td>\n",
       "    </tr>\n",
       "  </tbody>\n",
       "</table>\n",
       "<p>85 rows × 13 columns</p>\n",
       "</div>"
      ],
      "text/plain": [
       "    yoga  Age Profession  PracYears  Stress Relief  Lifestyle    Medium  \\\n",
       "0    4.0   20    Student       10.0              4          4   Trainer   \n",
       "1    2.0   20    Student        2.0              3          4     IG Tv   \n",
       "2    3.0   20    Retired        5.0              3          3   YouTube   \n",
       "3    1.0   19    Student        1.0              4          3   Trainer   \n",
       "4    0.0   20    Student        0.0              2          3   Trainer   \n",
       "..   ...  ...        ...        ...            ...        ...       ...   \n",
       "80   2.0   17    Student        2.0              2          2  Internet   \n",
       "81   1.0   21    Student        1.0              3          3   YouTube   \n",
       "82   4.0   42    Working       18.0              3          3   YouTube   \n",
       "83   3.0   19    Student        3.0              4          4   Trainer   \n",
       "84   4.0   56    Working       10.0              4          4   Trainer   \n",
       "\n",
       "      Spiritual Or Physical  Induction in Schools  Mental State  \\\n",
       "0                      Both                     4             4   \n",
       "1         Physical exercise                     3             4   \n",
       "2         Physical exercise                     3             2   \n",
       "3                      Both                     3             3   \n",
       "4                      Both                     2             3   \n",
       "..                      ...                   ...           ...   \n",
       "80                     Both                     3             2   \n",
       "81        Physical exercise                     2             3   \n",
       "82                     Both                     3             3   \n",
       "83                     Both                     3             3   \n",
       "84  Personal spiritual path                     4             4   \n",
       "\n",
       "    Chronic Disease  OverPhysical  Refering  \n",
       "0                 4             1         1  \n",
       "1                 2             1         1  \n",
       "2                 2             0         0  \n",
       "3                 3             0         0  \n",
       "4                 1             0         0  \n",
       "..              ...           ...       ...  \n",
       "80                3             1         0  \n",
       "81                2             1         1  \n",
       "82                3             1         1  \n",
       "83                4             1         1  \n",
       "84                4             1         1  \n",
       "\n",
       "[85 rows x 13 columns]"
      ]
     },
<<<<<<< Updated upstream
     "execution_count": 25,
=======
     "execution_count": 296,
>>>>>>> Stashed changes
     "metadata": {},
     "output_type": "execute_result"
    }
   ],
   "source": [
    "data"
   ]
  },
  {
   "cell_type": "markdown",
   "metadata": {},
   "source": [
    "### PROFESSION VS PRACTISING YEARS\n",
    "\n",
    "**Ho**:Ua=Ub=Uc:yoga practising time of the population doesnot gets affected by the profession.\n",
    "\n",
    "**Ha**:profession do affect their yoga practising time"
   ]
  },
  {
   "cell_type": "code",
   "execution_count": null,
   "metadata": {},
   "outputs": [],
   "source": [
    "x = np.array(data[\"Profession\"])\n",
    "for i,each in enumerate(x):\n",
    "    if(each==\"Student\"):\n",
    "        x[i]=0\n",
    "    elif(each==\"Retired\"):\n",
    "        x[i]=1\n",
    "    else:\n",
    "        x[i]=2\n",
    "y = np.array(data[\"PracYears\"])"
   ]
  },
  {
   "cell_type": "code",
   "execution_count": 107,
   "metadata": {},
   "outputs": [
    {
     "name": "stdout",
     "output_type": "stream",
     "text": [
      "Uretired= 6.333333333333333 Ustudent= 2.411290322580645 Uworking: 9.3\n",
      "p-value is 9.63555628033761e-07\n",
      "Dependent (reject H0)\n"
     ]
    }
   ],
   "source": [
    "Uretired = np.mean(y[np.argwhere(x==1)])\n",
    "Ustudent = np.mean(y[np.argwhere(x==0)])\n",
    "Uworking = np.mean(y[np.argwhere(x==2)])\n",
    "print(\"Uretired=\",retired,\"Ustudent=\",student,\"Uworking:\",working)\n",
    "import scipy\n",
    "annova_data = [x,y]\n",
    "f,pvalue = scipy.stats.f_oneway(x,y,axis=0)\n",
    "alpha = 0.05\n",
    "print(\"p-value is \" + str(pvalue))\n",
    "if pvalue <= alpha: \n",
    "    print('Dependent (reject H0)') \n",
    "else: \n",
    "    print('Independent (H0 holds true)') "
   ]
  },
  {
   "cell_type": "code",
<<<<<<< Updated upstream
   "execution_count": 116,
=======
   "execution_count": 297,
>>>>>>> Stashed changes
   "metadata": {},
   "outputs": [
    {
     "data": {
      "text/plain": [
<<<<<<< Updated upstream
       "<matplotlib.axes._subplots.AxesSubplot at 0x105d0dc0>"
      ]
     },
     "execution_count": 116,
=======
       "<matplotlib.axes._subplots.AxesSubplot at 0x1619dd00>"
      ]
     },
     "execution_count": 297,
>>>>>>> Stashed changes
     "metadata": {},
     "output_type": "execute_result"
    },
    {
     "data": {
<<<<<<< Updated upstream
      "image/png": "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\n",
=======
      "image/png": "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\n",
>>>>>>> Stashed changes
      "text/plain": [
       "<Figure size 432x288 with 1 Axes>"
      ]
     },
     "metadata": {},
     "output_type": "display_data"
    }
   ],
   "source": [
    "sb.barplot(data[\"Profession\"],data[\"PracYears\"],errwidth=1,edgecolor=\"0.3\",palette=\"Set2\",saturation=1)"
   ]
  },
  {
<<<<<<< Updated upstream
   "cell_type": "markdown",
=======
   "cell_type": "code",
   "execution_count": 298,
>>>>>>> Stashed changes
   "metadata": {},
   "source": [
    "**[Result]**: The above test resulted in a very low p-value which ultimately rejects our null hypothesis and suggests us to accept the alternative hypothesis (Ha) i.e **profession do affects yoga practising years**, *meaning in if a person belongs to a particualr profession than he might be practising more yoga*."
   ]
  },
  {
   "cell_type": "code",
<<<<<<< Updated upstream
   "execution_count": 278,
=======
   "execution_count": 299,
>>>>>>> Stashed changes
   "metadata": {},
   "outputs": [
    {
     "data": {
      "text/plain": [
       "<matplotlib.axes._subplots.AxesSubplot at 0x1746ebb0>"
      ]
     },
<<<<<<< Updated upstream
     "execution_count": 278,
=======
     "execution_count": 299,
>>>>>>> Stashed changes
     "metadata": {},
     "output_type": "execute_result"
    },
    {
     "data": {
      "image/png": "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\n",
      "text/plain": [
       "<Figure size 432x288 with 1 Axes>"
      ]
     },
     "metadata": {},
     "output_type": "display_data"
    }
   ],
   "source": [
    "sb.pointplot(data[\"yoga\"],data[\"Refering\"],errwidth=0.5,hue=data[\"yoga\"],palette=\"dark\",markers=\"x\",capsize=.5)"
   ]
  },
  {
   "cell_type": "markdown",
   "metadata": {},
   "source": [
    "### YOGA VS REFERING\n",
    "**Ho**:people doing yoga are happy with doing it and are more likely to refer it to others also.\n",
    "\n",
    "**Ha**:there is no relation between people doing yoga and refering them to others."
   ]
  },
  {
   "cell_type": "code",
   "execution_count": 127,
   "metadata": {},
   "outputs": [
    {
     "name": "stdout",
     "output_type": "stream",
     "text": [
      "p-value is 0.7510023194882196\n",
      "Independent (H0 holds true)\n"
     ]
    }
   ],
   "source": [
    "x = np.array(data[\"yoga\"])\n",
    "y = np.array(data[\"Refering\"])\n",
    "#people doing yoga are happy with doing it and are more likely to refer it to others also.\n",
    "#yoga - independent variables\n",
    "#referring - dependent variables\n",
    "yr = np.array([np.array(data[\"yoga\"]),np.array(data[\"Refering\"])])\n",
    "yrobs = pd.crosstab(data[\"yoga\"],data[\"Refering\"]) #pd.crosstab(df1,df2) --\n",
    "                                                    #calculates contigency table for two arrays(frequency)\n",
    "stat, p, dof, expected = chi2_contingency(yrobs,correction=False) #chi-square test\n",
    "\n",
    "# interpret p-value \n",
    "alpha = 0.05\n",
    "print(\"p-value is \" + str(p)) \n",
    "if p <= alpha: \n",
    "    print('Dependent (reject H0)') \n",
    "else: \n",
    "    print('Independent (H0 holds true)') "
   ]
  },
  {
   "cell_type": "markdown",
   "metadata": {},
   "source": [
    "**[RESULT]**:by performing **chi-square** test above we got enough evidence for our hypothersis to be accepted i.e **people doing yoga are happy with doing it and are more likely to refer it to others also.**"
   ]
  },
  {
   "cell_type": "code",
   "execution_count": null,
   "metadata": {},
   "outputs": [],
   "source": []
  },
  {
   "cell_type": "code",
   "execution_count": null,
   "metadata": {},
   "outputs": [],
   "source": []
  },
  {
   "cell_type": "code",
   "execution_count": null,
   "metadata": {},
   "outputs": [],
   "source": []
  }
 ],
 "metadata": {
  "kernelspec": {
   "display_name": "Python 3",
   "language": "python",
   "name": "python3"
  },
  "language_info": {
   "codemirror_mode": {
    "name": "ipython",
    "version": 3
   },
   "file_extension": ".py",
   "mimetype": "text/x-python",
   "name": "python",
   "nbconvert_exporter": "python",
   "pygments_lexer": "ipython3",
   "version": "3.8.3"
  }
 },
 "nbformat": 4,
 "nbformat_minor": 4
}
